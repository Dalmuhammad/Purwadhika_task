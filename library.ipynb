{
 "cells": [
  {
   "cell_type": "code",
   "execution_count": 2,
   "metadata": {},
   "outputs": [
    {
     "name": "stdout",
     "output_type": "stream",
     "text": [
      "110\n"
     ]
    }
   ],
   "source": [
    "dict_book = {\n",
    "    101: {'title': 'Introduction to Python', 'author': 'Alpha', 'qty': 5, 'genre': 'STEM', 'rating': 5, 'year': 2020},\n",
    "    102: {'title': 'The Problems of Philosophy', 'author': 'Beta', 'qty': 6, 'genre': 'Philosophy', 'rating': 5, 'year': 1912},\n",
    "    103: {'title': 'A Brief History of Time', 'author': 'Stephen Hawking', 'qty': 0, 'genre': 'STEM', 'rating': 4, 'year': 1988},\n",
    "    104: {'title': '1984', 'author': 'George Orwell', 'qty': 8, 'genre': 'Fiction', 'rating': 5, 'year': 1949},\n",
    "    105: {'title': 'The Selfish Gene', 'author': 'Richard Dawkins', 'qty': 7, 'genre': 'Biology', 'rating': 4, 'year': 1976},\n",
    "    106: {'title': 'Meditations', 'author': 'Marcus Aurelius', 'qty': 9, 'genre': 'Philosophy', 'rating': 5, 'year': 180},\n",
    "    107: {'title': 'To Kill a Mockingbird', 'author': 'Harper Lee', 'qty': 6, 'genre': 'Fiction', 'rating': 5, 'year': 1960},\n",
    "    108: {'title': 'Sapiens: A Brief History of Humankind', 'author': 'Yuval Noah Harari', 'qty': 7, 'genre': 'History', 'rating': 4, 'year': 2011},\n",
    "    109: {'title': 'The Art of War', 'author': 'Sun Tzu', 'qty': 10, 'genre': 'Philosophy', 'rating': 4, 'year': 2020},\n",
    "    110: {'title': 'The Catcher in the Rye', 'author': 'J.D. Salinger', 'qty': 0, 'genre': 'Fiction', 'rating': 5, 'year': 1951},\n",
    "}\n",
    "last_id = 100+len(dict_book)\n",
    "print(last_id)"
   ]
  },
  {
   "cell_type": "code",
   "execution_count": 3,
   "metadata": {},
   "outputs": [
    {
     "name": "stdout",
     "output_type": "stream",
     "text": [
      "10\n"
     ]
    }
   ],
   "source": [
    "keys = list(dict_book.keys())\n",
    "print(len(dict_book))"
   ]
  },
  {
   "cell_type": "code",
   "execution_count": 4,
   "metadata": {},
   "outputs": [
    {
     "name": "stdout",
     "output_type": "stream",
     "text": [
      "Book Loan Policy:\n",
      "1. The first 7 days of borrowing are free.\n",
      "2. A fee of 1000 will be charged per day after the 7th day.\n",
      "3. The maximum loan period for a book is 14 days.\n",
      "4. A late return penalty of 2000 per day will be applied.\n",
      "5. The maximum penalty is 2 times the price of the book.\n"
     ]
    }
   ],
   "source": [
    "def loan_policy():\n",
    "    print(\"Book Loan Policy:\")\n",
    "    print(\"1. The first 7 days of borrowing are free.\")\n",
    "    print(\"2. A fee of 1000 will be charged per day after the 7th day.\")\n",
    "    print(\"3. The maximum loan period for a book is 14 days.\")\n",
    "    print(\"4. A late return penalty of 2000 per day will be applied.\")\n",
    "    print(\"5. The maximum penalty is 2 times the price of the book.\")\n",
    "loan_policy()"
   ]
  },
  {
   "cell_type": "code",
   "execution_count": 9,
   "metadata": {},
   "outputs": [
    {
     "name": "stdout",
     "output_type": "stream",
     "text": [
      " No | Book ID  |             Title              |        Author        | Year  |    Status     |      Genre      | Rating\n",
      " 1  |   101    | Introduction to Python         | Alpha                | 2020  | Available     | STEM            |   5  \n",
      " 2  |   102    | The Problems of Philosophy     | Beta                 | 1912  | Available     | Philosophy      |   5  \n",
      " 3  |   103    | A Brief History of Time        | Stephen Hawking      | 1988  | Not available | STEM            |   4  \n",
      " 4  |   104    | 1984                           | George Orwell        | 1949  | Available     | Fiction         |   5  \n",
      " 5  |   105    | The Selfish Gene               | Richard Dawkins      | 1976  | Available     | Biology         |   4  \n",
      " 6  |   106    | Meditations                    | Marcus Aurelius      |  180  | Available     | Philosophy      |   5  \n",
      " 7  |   107    | To Kill a Mockingbird          | Harper Lee           | 1960  | Available     | Fiction         |   5  \n",
      " 8  |   108    | Sapiens: A Brief History of Hu | Yuval Noah Harari    | 2011  | Available     | History         |   4  \n",
      " 9  |   109    | The Art of War                 | Sun Tzu              | 2020  | Available     | Philosophy      |   4  \n",
      " 10 |   110    | The Catcher in the Rye         | J.D. Salinger        | 1951  | Not available | Fiction         |   5  \n"
     ]
    }
   ],
   "source": [
    "def display_book(input_dict, max_item=None):\n",
    "    if max_item is None:\n",
    "        max_item=20\n",
    "    number = 0\n",
    "    print(f\"{'No':^4}| {'Book ID':^8} | {'Title':^30} | {'Author':^20} | {'Year':^5} | {'Status':^13} | {'Genre':^15} | {'Rating':^5}\")\n",
    "    for key_disp, val_disp in input_dict.items():\n",
    "        number+=1\n",
    "        # if number<=len(dict_book)-5:\n",
    "        #     continue\n",
    "        status = 'Available' if val_disp['qty']!=0 else 'Not available'\n",
    "        print(f\"{number:^4}| {key_disp:^8} | {val_disp['title']:<30.30} | {val_disp['author']:<20.20} | {val_disp['year']:^5} | \"\n",
    "        f\"{status:<13} | {val_disp['genre']:<15} | {val_disp['rating']:^5}\")\n",
    "        if number>=max_item:\n",
    "            break\n",
    "\n",
    "display_book(dict_book)\n",
    "# spesific_id = {111:dict_book[111]}\n",
    "# display_book(spesific_id)"
   ]
  },
  {
   "cell_type": "code",
   "execution_count": 206,
   "metadata": {},
   "outputs": [
    {
     "name": "stdout",
     "output_type": "stream",
     "text": [
      " No | Book ID  |             Title              |        Author        | Year  |      Genre      | Borrowing date  | Returning date \n",
      " 1  |   112    | Afdal's book 2                 | Afdal                | 2024  | Fiction         | 20-09-2024      | 25-09-2024     \n"
     ]
    }
   ],
   "source": [
    "def borrowing_details(input_dict):\n",
    "    number = 0\n",
    "    print(f\"{'No':^4}| {'Book ID':^8} | {'Title':^30} | {'Author':^20} | {'Year':^5} | {'Genre':^15} | {'Borrowing date':^15} | {'Returning date':^15}\")\n",
    "    for key_disp, val_disp in input_dict.items():\n",
    "        number+=1\n",
    "        borr_date = val_disp['borr_date'].strftime('%d-%m-%Y')\n",
    "        return_date = val_disp['return_date'].strftime('%d-%m-%Y')\n",
    "        print(f\"{number:^4}| {key_disp:^8} | {val_disp['title']:<30.30} | {val_disp['author']:<20.20} | {val_disp['year']:^5} | \"\n",
    "        f\"{val_disp['genre']:<15} | {borr_date:<15} | {return_date:<15}\")\n",
    "\n",
    "borrowing_details(user_borrow)\n",
    "# spesific_id = {111:dict_book[111]}\n",
    "# display_book(spesific_id)"
   ]
  },
  {
   "cell_type": "code",
   "execution_count": 163,
   "metadata": {},
   "outputs": [
    {
     "name": "stdout",
     "output_type": "stream",
     "text": [
      "Today's date: 2024-09-20\n",
      "Date 5 days from today: 2024-09-25\n",
      "-5\n"
     ]
    }
   ],
   "source": [
    "import datetime\n",
    "#from datetime import date, timedelta\n",
    "\n",
    "today = date.today()\n",
    "print(\"Today's date:\", today)\n",
    "\n",
    "x = 5\n",
    "future_date = today + timedelta(days=x)\n",
    "print(f\"Date {x} days from today: {future_date}\")\n",
    "\n",
    "custom_date = datetime.date(2024, 9, 25)\n",
    "a=(today-custom_date).days\n",
    "print(a)"
   ]
  },
  {
   "cell_type": "code",
   "execution_count": 215,
   "metadata": {},
   "outputs": [
    {
     "name": "stdout",
     "output_type": "stream",
     "text": [
      "List of genre:\n",
      " No  | Genre          \n",
      " 1   | STEM           \n",
      " 2   | PHILOSOPHY     \n",
      " 3   | FICTION        \n",
      " 4   | BIOLOGY        \n",
      " 5   | HISTORY        \n",
      "\n"
     ]
    },
    {
     "data": {
      "text/plain": [
       "{101: {'title': 'Introduction to Python',\n",
       "  'author': 'Alpha',\n",
       "  'qty': 5,\n",
       "  'genre': 'STEM',\n",
       "  'rating': 5,\n",
       "  'year': 2020},\n",
       " 103: {'title': 'A Brief History of Time',\n",
       "  'author': 'Stephen Hawking',\n",
       "  'qty': 0,\n",
       "  'genre': 'STEM',\n",
       "  'rating': 4,\n",
       "  'year': 1988}}"
      ]
     },
     "execution_count": 215,
     "metadata": {},
     "output_type": "execute_result"
    }
   ],
   "source": [
    "def filter_book(inp_filter, inp_opt=None, display=None):\n",
    "    filter_ = []\n",
    "    for val in dict_book.values():\n",
    "        if val[inp_filter].upper() not in filter_:\n",
    "            filter_.append(val[inp_filter].upper()) \n",
    "\n",
    "    if inp_opt is None:\n",
    "        print(f\"List of {inp_filter}:\")\n",
    "        print(f\"{'No':^4} | {inp_filter.capitalize():<15}\")\n",
    "        for i in range(len(filter_)):\n",
    "            print(f\"{i+1:^4} | {filter_[i]:<15}\")\n",
    "        print(\"\")\n",
    "        input_opt_ = int(input(\"Please input the number corresponding to the genre you want from the list: \"))\n",
    "    else:\n",
    "        input_opt_ = inp_opt\n",
    "    filter_option = {key:val for key,val in dict_book.items() if val[inp_filter].upper()==filter_[input_opt_-1]}\n",
    "    if display==True:\n",
    "        display_book(filter_option)\n",
    "    return filter_option\n",
    "\n",
    "filter_book('genre')\n"
   ]
  },
  {
   "cell_type": "code",
   "execution_count": 30,
   "metadata": {},
   "outputs": [
    {
     "name": "stdout",
     "output_type": "stream",
     "text": [
      "The books have been added\n"
     ]
    }
   ],
   "source": [
    "def add_book():\n",
    "    title_book = input(\"What is the title of your book? \")\n",
    "    author_book = input(\"Who is the first author's name? \")  \n",
    "    genre_book = input(\"What is the genre's book? \")\n",
    "    year_book = int(input(\"When is the book published? \"))\n",
    "    qty_book = int(input(\"How many pcs you want to input? \"))\n",
    "    title_author_year = list((book['title'].lower(), book['author'].lower(), book['year']) for book in dict_book.values())\n",
    "    tuple_tay = (title_book.lower(),author_book.lower(),year_book)\n",
    "    keys = list(dict_book.keys())\n",
    "    global last_id\n",
    "    last_id +=1\n",
    "    if tuple_tay in title_author_year:\n",
    "        index_tuple = title_author_year.index(tuple_tay)\n",
    "        dict_book[keys[index_tuple]]['qty']+=qty_book\n",
    "        print(\"The books have been added\")\n",
    "    else:\n",
    "        dict_book[last_id]= {'title':title_book.capitalize(), 'author':author_book.capitalize(),'qty':qty_book,'genre':genre_book,'rating':5,'year':year_book}\n",
    "        print(\"The books have been added\")\n",
    "    \n",
    "add_book()"
   ]
  },
  {
   "cell_type": "code",
   "execution_count": 13,
   "metadata": {},
   "outputs": [],
   "source": [
    "def continue_yes_no(statement_):\n",
    "    while True:\n",
    "        yes_no = input(statement_)\n",
    "        if yes_no.lower()=='yes':\n",
    "            return 1\n",
    "        elif yes_no.lower()=='no':\n",
    "            return 0\n",
    "        else:\n",
    "            print(\"Invalid input, please answer with 'yes' or 'no'.\")"
   ]
  },
  {
   "cell_type": "code",
   "execution_count": 172,
   "metadata": {},
   "outputs": [
    {
     "ename": "ValueError",
     "evalue": "invalid literal for int() with base 10: 'af'",
     "output_type": "error",
     "traceback": [
      "\u001b[1;31m---------------------------------------------------------------------------\u001b[0m",
      "\u001b[1;31mValueError\u001b[0m                                Traceback (most recent call last)",
      "\u001b[1;32m<ipython-input-172-96069666b031>\u001b[0m in \u001b[0;36m<module>\u001b[1;34m\u001b[0m\n\u001b[0;32m      8\u001b[0m     \u001b[1;32mreturn\u001b[0m \u001b[0mchoice\u001b[0m\u001b[1;33m\u001b[0m\u001b[1;33m\u001b[0m\u001b[0m\n\u001b[0;32m      9\u001b[0m \u001b[1;33m\u001b[0m\u001b[0m\n\u001b[1;32m---> 10\u001b[1;33m \u001b[0moption_number\u001b[0m\u001b[1;33m(\u001b[0m\u001b[1;36m0\u001b[0m\u001b[1;33m,\u001b[0m\u001b[1;36m4\u001b[0m\u001b[1;33m,\u001b[0m\u001b[1;34m'masukkan'\u001b[0m\u001b[1;33m)\u001b[0m\u001b[1;33m\u001b[0m\u001b[1;33m\u001b[0m\u001b[0m\n\u001b[0m",
      "\u001b[1;32m<ipython-input-172-96069666b031>\u001b[0m in \u001b[0;36moption_number\u001b[1;34m(lower_, upper_, statement_)\u001b[0m\n\u001b[0;32m      1\u001b[0m \u001b[1;32mdef\u001b[0m \u001b[0moption_number\u001b[0m\u001b[1;33m(\u001b[0m\u001b[0mlower_\u001b[0m\u001b[1;33m,\u001b[0m\u001b[0mupper_\u001b[0m\u001b[1;33m,\u001b[0m\u001b[0mstatement_\u001b[0m\u001b[1;33m)\u001b[0m\u001b[1;33m:\u001b[0m\u001b[1;33m\u001b[0m\u001b[1;33m\u001b[0m\u001b[0m\n\u001b[1;32m----> 2\u001b[1;33m     \u001b[0mchoice\u001b[0m \u001b[1;33m=\u001b[0m \u001b[0mint\u001b[0m\u001b[1;33m(\u001b[0m\u001b[0minput\u001b[0m\u001b[1;33m(\u001b[0m\u001b[0mstatement_\u001b[0m\u001b[1;33m)\u001b[0m\u001b[1;33m)\u001b[0m\u001b[1;33m\u001b[0m\u001b[1;33m\u001b[0m\u001b[0m\n\u001b[0m\u001b[0;32m      3\u001b[0m     \u001b[1;32mwhile\u001b[0m \u001b[0mchoice\u001b[0m\u001b[1;33m<\u001b[0m\u001b[0mlower_\u001b[0m \u001b[1;32mor\u001b[0m \u001b[0mchoice\u001b[0m\u001b[1;33m>\u001b[0m\u001b[0mupper_\u001b[0m\u001b[1;33m:\u001b[0m\u001b[1;33m\u001b[0m\u001b[1;33m\u001b[0m\u001b[0m\n\u001b[0;32m      4\u001b[0m         \u001b[0mprint\u001b[0m\u001b[1;33m(\u001b[0m\u001b[1;34m'The number is not available, please choose based on the list'\u001b[0m\u001b[1;33m)\u001b[0m\u001b[1;33m\u001b[0m\u001b[1;33m\u001b[0m\u001b[0m\n\u001b[0;32m      5\u001b[0m         \u001b[1;32mif\u001b[0m \u001b[0mcontinue_yes_no\u001b[0m\u001b[1;33m(\u001b[0m\u001b[1;34m'Would you like to try again? (yes/no)'\u001b[0m\u001b[1;33m)\u001b[0m\u001b[1;33m==\u001b[0m\u001b[1;36m0\u001b[0m\u001b[1;33m:\u001b[0m\u001b[1;33m\u001b[0m\u001b[1;33m\u001b[0m\u001b[0m\n",
      "\u001b[1;31mValueError\u001b[0m: invalid literal for int() with base 10: 'af'"
     ]
    }
   ],
   "source": [
    "def option_number(lower_,upper_,statement_):\n",
    "    choice = int(input(statement_))\n",
    "    while choice<lower_ or choice>upper_:\n",
    "        print('The number is not available, please choose based on the list')\n",
    "        if continue_yes_no('Would you like to try again? (yes/no)')==0:\n",
    "            break\n",
    "        choice= int(input(statement_))\n",
    "    return choice\n",
    "\n",
    "option_number(0,4,'masukkan')"
   ]
  },
  {
   "cell_type": "code",
   "execution_count": null,
   "metadata": {},
   "outputs": [],
   "source": [
    "user_borrow = {}"
   ]
  },
  {
   "cell_type": "code",
   "execution_count": 145,
   "metadata": {},
   "outputs": [
    {
     "data": {
      "text/plain": [
       "{112: {'title': \"Afdal's book 2\",\n",
       "  'author': 'Afdal',\n",
       "  'year': 2024,\n",
       "  'genre': 'Fiction',\n",
       "  'borr_date': datetime.date(2024, 9, 20),\n",
       "  'return_date': datetime.date(2024, 9, 25)}}"
      ]
     },
     "execution_count": 145,
     "metadata": {},
     "output_type": "execute_result"
    }
   ],
   "source": [
    "user_borrow"
   ]
  },
  {
   "cell_type": "code",
   "execution_count": 140,
   "metadata": {},
   "outputs": [],
   "source": [
    "keys = list(dict_book.keys())\n",
    "list_title = list(val['title'].lower() for val in dict_book.values())\n",
    "list_author = []\n",
    "list_genre = []\n",
    "for val in dict_book.values():\n",
    "    if val['author'].lower() not in list_author:\n",
    "        list_author.append(val['author'].lower())\n",
    "    if val['genre'].lower() not in list_genre:\n",
    "        list_genre.append(val['genre'].lower())\n",
    "\n",
    "def borrow_book_filter(filter_, filter_list, optional_filter=None):\n",
    "    while True:\n",
    "        input_item = int(input(f\"Input {filter_} that you want to borrow: \")) if filter_=='ID'\\\n",
    "            else input(f\"Input the {filter_} book that you want to borrow: \").lower()\n",
    "        if input_item not in filter_list:\n",
    "            print(f\"{filter_} is not available\")\n",
    "            if continue_yes_no(f\"Do you still want to borrow the book by {filter_}? (yes/no) \")==0:\n",
    "                break\n",
    "        else:\n",
    "            if filter_=='ID':\n",
    "                borr_id = input_item\n",
    "            else:\n",
    "                index_ = filter_list.index(input_item)\n",
    "                borr_id = keys[index_]\n",
    "            \n",
    "            if optional_filter:\n",
    "                dict_borr_filter = optional_filter(filter_,index_+1)\n",
    "                keys_borr_filter = list(dict_borr_filter.keys())\n",
    "                print(\"\\n List of book:\")\n",
    "                display_book(dict_borr_filter)\n",
    "                borr_number = option_number(1,len(keys_borr_filter),\"Input the number corresponding the book that you want to borrow: \")\n",
    "                if 1<=borr_number<=len(keys_borr_filter):\n",
    "                    borr_id = keys_borr_filter[borr_number-1]\n",
    "                        \n",
    "\n",
    "            print(\"\\n Detail book: \")\n",
    "            display_book({borr_id: dict_book[borr_id]})\n",
    "\n",
    "            if dict_book[borr_id]['qty']<=0:\n",
    "                print(\"This book is out of stock.\")\n",
    "                break\n",
    "            \n",
    "            keys_user = list(user_borrow.keys())\n",
    "            if borr_id in keys_user:\n",
    "                print(\"This book is already in your borrowed list and cannot be added to the cart.\")\n",
    "                break\n",
    "                        \n",
    "            if continue_yes_no(\"Are you sure want to borrow this book? (yes/no)\")==0:\n",
    "                if continue_yes_no(f\"Do you still want to borrow the book by the {filter_}? (yes/no) \")==0:\n",
    "                    break\n",
    "                else:\n",
    "                    continue\n",
    "\n",
    "            total_day = int(input(\"For how many days would you like to borrow the book? \"))\n",
    "            while total_day < 1 or total_day > 14:\n",
    "                print(\"The borrowing period must be between 1 and 14 days.\")\n",
    "                total_day = int(input(\"Please enter a valid number of days (1-14): \"))\n",
    "            borr_fee = max(0, 1000 * (total_day - 7))\n",
    "\n",
    "            borr_date = date.today()\n",
    "            return_date = borr_date +timedelta(days=total_day)\n",
    "\n",
    "            user_borrow[borr_id] = {'title':dict_book[borr_id]['title'],\n",
    "                                        'author':dict_book[borr_id]['author'],\n",
    "                                        'year':dict_book[borr_id]['year'],\n",
    "                                        'genre':dict_book[borr_id]['genre'],\n",
    "                                        'borr_date':borr_date,\n",
    "                                        'return_date':return_date\n",
    "                                        'borr_fee' = borr_fee}\n",
    "            \n",
    "            dict_book[borr_id]['qty'] -= 1\n",
    "            #borrowing_details(user_borrow)\n",
    "            break"
   ]
  },
  {
   "cell_type": "code",
   "execution_count": 333,
   "metadata": {},
   "outputs": [
    {
     "name": "stdout",
     "output_type": "stream",
     "text": [
      "Do you want to borrow the book by: \n",
      "1. ID\n",
      "2. Title\n",
      "3. Author\n",
      "4. Genre\n",
      "\n",
      " Detail book: \n",
      " No | Book ID  |             Title              |        Author        | Year  |    Status     |      Genre      | Rating\n",
      " 1  |   112    | Afdal's book 2                 | Afdal                | 2024  | Available     | Fiction         |   5  \n",
      " No | Book ID  |             Title              |        Author        | Year  |      Genre      | Borrowing date  | Returning date \n",
      " 1  |   112    | Afdal's book 2                 | Afdal                | 2024  | Fiction         | 21-09-2024      | 27-09-2024     \n",
      "Do you want to borrow the book by: \n",
      "1. ID\n",
      "2. Title\n",
      "3. Author\n",
      "4. Genre\n",
      "\n",
      " Detail book: \n",
      " No | Book ID  |             Title              |        Author        | Year  |    Status     |      Genre      | Rating\n",
      " 1  |   111    | Afdal's book                   | Afdal                | 2024  | Available     | Fiction         |   5  \n",
      " No | Book ID  |             Title              |        Author        | Year  |      Genre      | Borrowing date  | Returning date \n",
      " 1  |   112    | Afdal's book 2                 | Afdal                | 2024  | Fiction         | 21-09-2024      | 27-09-2024     \n",
      " 2  |   111    | Afdal's book                   | Afdal                | 2024  | Fiction         | 21-09-2024      | 25-09-2024     \n",
      "Do you want to borrow the book by: \n",
      "1. ID\n",
      "2. Title\n",
      "3. Author\n",
      "4. Genre\n",
      "\n",
      " Detail book: \n",
      " No | Book ID  |             Title              |        Author        | Year  |    Status     |      Genre      | Rating\n",
      " 1  |   111    | Afdal's book                   | Afdal                | 2024  | Available     | Fiction         |   5  \n",
      "This book is already in your borrowed list and cannot be added to the cart.\n"
     ]
    }
   ],
   "source": [
    "def borrowing_book():\n",
    "    while True:\n",
    "        print(\"Do you want to borrow the book by: \")\n",
    "        print(\"1. ID\")\n",
    "        print(\"2. Title\")\n",
    "        print(\"3. Author\")\n",
    "        print(\"4. Genre\")\n",
    "        book_bb = int(input(\"Input the number corresponding from the list: \"))\n",
    "        \n",
    "        if book_bb == 1:\n",
    "            borrow_book_filter(\"ID\", keys)\n",
    "        elif book_bb == 2:\n",
    "            borrow_book_filter(\"title\", list_title)\n",
    "        elif book_bb == 3:\n",
    "            borrow_book_filter(\"author\", list_author, filter_book)\n",
    "        elif book_bb == 4:\n",
    "            borrow_book_filter(\"genre\", list_genre, filter_book)\n",
    "        \n",
    "        if continue_yes_no(\"Do you want to borrow another book? (yes/no)\") == 0:\n",
    "            break\n",
    "borrowing_book()"
   ]
  },
  {
   "cell_type": "code",
   "execution_count": 334,
   "metadata": {},
   "outputs": [
    {
     "name": "stdout",
     "output_type": "stream",
     "text": [
      " No | Book ID  |             Title              |        Author        | Year  |      Genre      | Borrowing date  | Returning date \n",
      " 1  |   112    | Afdal's book 2                 | Afdal                | 2024  | Fiction         | 21-09-2024      | 27-09-2024     \n",
      " 2  |   111    | Afdal's book                   | Afdal                | 2024  | Fiction         | 21-09-2024      | 25-09-2024     \n"
     ]
    }
   ],
   "source": [
    "borrowing_details(user_borrow)"
   ]
  },
  {
   "cell_type": "code",
   "execution_count": null,
   "metadata": {},
   "outputs": [],
   "source": []
  },
  {
   "cell_type": "code",
   "execution_count": 338,
   "metadata": {},
   "outputs": [],
   "source": [
    "def del_book_filter(status, dict_,filter_, filter_list, optional_filter=None):\n",
    "    disp_function = display_book if status=='admin' else borrowing_details\n",
    "    if continue_yes_no(f\"Do you want to display list of {filter_}? (yes/no)\") == 1:\n",
    "        print(f\"List of {filter_}:\")\n",
    "        print(f\"{'No':^4} | {filter_.upper():<15}\")\n",
    "        for i in range(len(filter_list)):\n",
    "            print(f\"{i+1:^4} | {filter_list[i]:<15}\")\n",
    "    while True:\n",
    "        keys = list(dict_.keys())\n",
    "        input_item = int(input(f\"Input {filter_} that you want to delete: \")) if filter_=='ID'\\\n",
    "            else input(f\"Input the {filter_} book that you want to delete: \").lower()\n",
    "        if input_item not in filter_list:\n",
    "            print(f\"{filter_} is not available\")\n",
    "            if continue_yes_no(f\"Do you still want to delete the book by {filter_}? (yes/no) \")==0:\n",
    "                break\n",
    "        else:\n",
    "            if filter_=='ID': \n",
    "                del_id = input_item\n",
    "            else:\n",
    "                index_ = filter_list.index(input_item)\n",
    "                del_id = keys[index_]\n",
    "            if optional_filter:\n",
    "                dict_del_filter = optional_filter(dict_,filter_,index_+1)\n",
    "                keys_del_filter = list(dict_del_filter.keys())\n",
    "                if len(dict_del_filter)>1:\n",
    "                    print(\"\\n List of book:\")\n",
    "                    disp_function(dict_del_filter)\n",
    "                    del_number = option_number(1,len(keys_del_filter),\"Input the number corresponding the book that you want to delete: \")\n",
    "                    if 1<=del_number<=len(keys_del_filter):\n",
    "                        del_id = keys_del_filter[del_number-1]\n",
    "\n",
    "            print(\"\\n Detail book: \")\n",
    "            disp_function({del_id: dict_[del_id]})\n",
    "\n",
    "            if continue_yes_no(\"Are you sure want to delete this book? (yes/no)\")==0:\n",
    "                if continue_yes_no(f\"Do you still want to delete the book by the {filter_}? (yes/no) \")==0:\n",
    "                    break\n",
    "                else:\n",
    "                    continue\n",
    "                        \n",
    "            del dict_[del_id]\n",
    "\n",
    "            break"
   ]
  },
  {
   "cell_type": "code",
   "execution_count": 335,
   "metadata": {},
   "outputs": [
    {
     "name": "stdout",
     "output_type": "stream",
     "text": [
      "Do you want to delete the book by: \n",
      "1. ID\n",
      "2. Title\n",
      "3. Author\n",
      "4. Genre\n",
      "List of ID:\n",
      " No  | ID             \n",
      " 1   | 112            \n",
      "\n",
      " 2   | 111            \n",
      "\n",
      "ID is not available\n",
      "\n",
      " Detail book: \n",
      " No | Book ID  |             Title              |        Author        | Year  |      Genre      | Borrowing date  | Returning date \n",
      " 1  |   112    | Afdal's book 2                 | Afdal                | 2024  | Fiction         | 21-09-2024      | 27-09-2024     \n"
     ]
    }
   ],
   "source": [
    "def deleting_book(status_, dict_):\n",
    "    list_ = list_all(dict_)\n",
    "    while True:\n",
    "        print(\"Do you want to delete the book by: \")\n",
    "        print(\"1. ID\")\n",
    "        print(\"2. Title\")\n",
    "        print(\"3. Author\")\n",
    "        print(\"4. Genre\")\n",
    "        book_bb = int(input(\"Input the number corresponding from the list: \"))\n",
    "        \n",
    "        if book_bb == 1:\n",
    "            del_book_filter(status_,dict_,\"ID\", list_[0])\n",
    "        elif book_bb == 2:\n",
    "            del_book_filter(status_,dict_,\"title\", list_[1])\n",
    "        elif book_bb == 3:\n",
    "            del_book_filter(status_,dict_,\"author\", list_[2], filter_book2)\n",
    "        elif book_bb == 4:\n",
    "            del_book_filter(status_,dict_,\"genre\", list_[3], filter_book2)\n",
    "        \n",
    "        if continue_yes_no(\"Do you want to delete another book? (yes/no)\") == 0:\n",
    "            break\n",
    "        \n",
    "deleting_book(user_borrow)"
   ]
  },
  {
   "cell_type": "code",
   "execution_count": 327,
   "metadata": {},
   "outputs": [
    {
     "data": {
      "text/plain": [
       "{}"
      ]
     },
     "execution_count": 327,
     "metadata": {},
     "output_type": "execute_result"
    }
   ],
   "source": [
    "user_borrow"
   ]
  },
  {
   "cell_type": "code",
   "execution_count": 179,
   "metadata": {},
   "outputs": [],
   "source": [
    "def list_all(dict_):\n",
    "    keys = list(dict_.keys())\n",
    "    list_title = list(val['title'].lower() for val in dict_.values())\n",
    "    list_author = []\n",
    "    list_genre = []\n",
    "    for val in dict_.values():\n",
    "        if val['author'].lower() not in list_author:\n",
    "            list_author.append(val['author'].lower())\n",
    "        if val['genre'].lower() not in list_genre:\n",
    "            list_genre.append(val['genre'].lower())\n",
    "    return [keys,list_title,list_author, list_genre]"
   ]
  },
  {
   "cell_type": "code",
   "execution_count": 254,
   "metadata": {},
   "outputs": [
    {
     "name": "stdout",
     "output_type": "stream",
     "text": [
      "Do you want to delete book by:\n",
      "1. Book ID\n",
      "2. Title\n",
      "List of title:\n",
      " No  | TITLE          \n",
      " 1   | afdal's book 2 \n",
      "\n",
      "The number is not available, please choose based on the list\n"
     ]
    },
    {
     "ename": "UnboundLocalError",
     "evalue": "local variable 'del_id' referenced before assignment",
     "output_type": "error",
     "traceback": [
      "\u001b[1;31m---------------------------------------------------------------------------\u001b[0m",
      "\u001b[1;31mUnboundLocalError\u001b[0m                         Traceback (most recent call last)",
      "\u001b[1;32m<ipython-input-254-7c5f3947269a>\u001b[0m in \u001b[0;36m<module>\u001b[1;34m\u001b[0m\n\u001b[0;32m     49\u001b[0m         \u001b[0mborrowing_details\u001b[0m\u001b[1;33m(\u001b[0m\u001b[1;33m{\u001b[0m\u001b[0mdel_id\u001b[0m\u001b[1;33m:\u001b[0m \u001b[0muser_borrow\u001b[0m\u001b[1;33m[\u001b[0m\u001b[0mdel_id\u001b[0m\u001b[1;33m]\u001b[0m\u001b[1;33m}\u001b[0m\u001b[1;33m)\u001b[0m\u001b[1;33m\u001b[0m\u001b[1;33m\u001b[0m\u001b[0m\n\u001b[0;32m     50\u001b[0m \u001b[1;33m\u001b[0m\u001b[0m\n\u001b[1;32m---> 51\u001b[1;33m \u001b[0mdelete_book\u001b[0m\u001b[1;33m(\u001b[0m\u001b[0muser_borrow\u001b[0m\u001b[1;33m)\u001b[0m\u001b[1;33m\u001b[0m\u001b[1;33m\u001b[0m\u001b[0m\n\u001b[0m",
      "\u001b[1;32m<ipython-input-254-7c5f3947269a>\u001b[0m in \u001b[0;36mdelete_book\u001b[1;34m(dict_)\u001b[0m\n\u001b[0;32m     47\u001b[0m             \u001b[0mindex_\u001b[0m \u001b[1;33m=\u001b[0m \u001b[0mlist_filter\u001b[0m\u001b[1;33m.\u001b[0m\u001b[0mindex\u001b[0m\u001b[1;33m(\u001b[0m\u001b[0mdel_title\u001b[0m\u001b[1;33m)\u001b[0m\u001b[1;33m\u001b[0m\u001b[1;33m\u001b[0m\u001b[0m\n\u001b[0;32m     48\u001b[0m             \u001b[0mdel_id\u001b[0m \u001b[1;33m=\u001b[0m\u001b[0mlist_\u001b[0m\u001b[1;33m[\u001b[0m\u001b[1;36m0\u001b[0m\u001b[1;33m]\u001b[0m\u001b[1;33m[\u001b[0m\u001b[0mindex_\u001b[0m\u001b[1;33m]\u001b[0m\u001b[1;33m\u001b[0m\u001b[1;33m\u001b[0m\u001b[0m\n\u001b[1;32m---> 49\u001b[1;33m         \u001b[0mborrowing_details\u001b[0m\u001b[1;33m(\u001b[0m\u001b[1;33m{\u001b[0m\u001b[0mdel_id\u001b[0m\u001b[1;33m:\u001b[0m \u001b[0muser_borrow\u001b[0m\u001b[1;33m[\u001b[0m\u001b[0mdel_id\u001b[0m\u001b[1;33m]\u001b[0m\u001b[1;33m}\u001b[0m\u001b[1;33m)\u001b[0m\u001b[1;33m\u001b[0m\u001b[1;33m\u001b[0m\u001b[0m\n\u001b[0m\u001b[0;32m     50\u001b[0m \u001b[1;33m\u001b[0m\u001b[0m\n\u001b[0;32m     51\u001b[0m \u001b[0mdelete_book\u001b[0m\u001b[1;33m(\u001b[0m\u001b[0muser_borrow\u001b[0m\u001b[1;33m)\u001b[0m\u001b[1;33m\u001b[0m\u001b[1;33m\u001b[0m\u001b[0m\n",
      "\u001b[1;31mUnboundLocalError\u001b[0m: local variable 'del_id' referenced before assignment"
     ]
    }
   ],
   "source": [
    "def delete_book(dict_):\n",
    "    list_ = list_all(dict_)\n",
    "    print(\"Do you want to delete book by:\")\n",
    "    print(\"1. Book ID\")\n",
    "    print(\"2. Title\")\n",
    "    option_ = option_number(1,2,\"Input the number based on the list: \")\n",
    "    if option_ == 1:\n",
    "        filter_ = 'ID'\n",
    "        list_filter = list_[option_-1]\n",
    "        if continue_yes_no(\"Do you want to display list of Book ID? (yes/no)\") == 1:\n",
    "            print(f\"List of {filter_}:\")\n",
    "            print(f\"{'No':^4} | {filter_.upper():<15}\")\n",
    "            for i in range(len(list_filter)):\n",
    "                print(f\"{i+1:^4} | {list_filter[i]:<15}\")\n",
    "                print(\"\")\n",
    "                del_number = option_number(1,len(list_filter), \"Please input the number corresponding to ID you want from the list: \")\n",
    "                if 1<=del_number<=len(list_filter):\n",
    "                    del_id = list_filter[del_number-1]\n",
    "        else:\n",
    "            del_id = int(input(f\"Input Book ID that you want to borrow: \"))\n",
    "            while del_id not in list_filter:\n",
    "                print(f\"{filter_} is not available\")\n",
    "                if continue_yes_no(f\"Do you still want to delete the book by {filter_}? (yes/no) \")==0:\n",
    "                    break\n",
    "                del_id = int(input(f\"Input Book ID that you want to borrow: \"))\n",
    "        borrowing_details({del_id: user_borrow[del_id]})\n",
    "    \n",
    "    else:\n",
    "        filter_ = 'title'\n",
    "        list_filter = list_[option_-1]\n",
    "        if continue_yes_no(\"Do you want to display list of title? (yes/no)\") == 1:\n",
    "            print(f\"List of {filter_}:\")\n",
    "            print(f\"{'No':^4} | {filter_.upper():<15}\")\n",
    "            for i in range(len(list_filter)):\n",
    "                print(f\"{i+1:^4} | {list_filter[i]:<15}\")\n",
    "                print(\"\")\n",
    "                del_number = option_number(1,len(list_filter), \"Please input the number corresponding to ID you want from the list: \")\n",
    "                if 1<=del_number<=len(list_filter):\n",
    "                    del_id = list_filter[del_number-1]\n",
    "        else:\n",
    "            del_title = input(f\"Input title that you want to delete: \")\n",
    "            while del_title not in list_filter:\n",
    "                print(f\"{filter_} is not available\")\n",
    "                if continue_yes_no(f\"Do you still want to delete the book by {filter_}? (yes/no) \")==0:\n",
    "                    break\n",
    "                del_title = input(f\"Input title that you want to delete: \")\n",
    "            index_ = list_filter.index(del_title)\n",
    "            del_id =list_[0][index_]\n",
    "        borrowing_details({del_id: user_borrow[del_id]})\n",
    "     \n",
    "delete_book(user_borrow)"
   ]
  },
  {
   "cell_type": "code",
   "execution_count": 318,
   "metadata": {},
   "outputs": [
    {
     "name": "stdout",
     "output_type": "stream",
     "text": [
      "List of genre:\n",
      " No  | Genre          \n",
      " 1   | fiction        \n",
      "\n"
     ]
    },
    {
     "data": {
      "text/plain": [
       "{112: {'title': \"Afdal's book 2\",\n",
       "  'author': 'Afdal',\n",
       "  'year': 2024,\n",
       "  'genre': 'Fiction',\n",
       "  'borr_date': datetime.date(2024, 9, 20),\n",
       "  'return_date': datetime.date(2024, 9, 25)}}"
      ]
     },
     "execution_count": 318,
     "metadata": {},
     "output_type": "execute_result"
    }
   ],
   "source": [
    "def filter_book2(dict_, inp_filter, inp_opt=None, display_=None):\n",
    "    filter_ = []\n",
    "    for val in dict_.values():\n",
    "        if val[inp_filter].lower() not in filter_:\n",
    "            filter_.append(val[inp_filter].lower()) \n",
    "\n",
    "    if display_:\n",
    "        print(f\"List of {inp_filter}:\")\n",
    "        print(f\"{'No':^4} | {inp_filter.capitalize():<15}\")\n",
    "        for i in range(len(filter_)):\n",
    "            print(f\"{i+1:^4} | {filter_[i]:<15}\")\n",
    "        print(\"\")\n",
    "    if inp_opt:\n",
    "        input_opt_ = inp_opt\n",
    "        filter_option = {key:val for key,val in dict_.items() if val[inp_filter].lower()==filter_[input_opt_-1]}\n",
    "    else:\n",
    "        input_opt_ = option_number(1,len(filter_), \"Please input the number corresponding to the genre you want from the list: \")\n",
    "        if 1<=input_opt_<=len(filter_):\n",
    "            filter_option = {key:val for key,val in dict_.items() if val[inp_filter].lower()==filter_[input_opt_-1]}\n",
    "    return filter_option\n",
    "\n",
    "filter_book2(user_borrow,'genre',1, display_=True)\n",
    "\n"
   ]
  },
  {
   "cell_type": "code",
   "execution_count": 190,
   "metadata": {},
   "outputs": [
    {
     "data": {
      "text/plain": [
       "5"
      ]
     },
     "execution_count": 190,
     "metadata": {},
     "output_type": "execute_result"
    }
   ],
   "source": [
    "def test_(a, b=None, c=None):\n",
    "    d = a\n",
    "    if c:\n",
    "        d = a+c\n",
    "    return d\n",
    "test_(1, c=4)\n",
    "    "
   ]
  },
  {
   "cell_type": "code",
   "execution_count": 170,
   "metadata": {},
   "outputs": [
    {
     "data": {
      "text/plain": [
       "{1: {'id': 112, 'title': \"Afdal's book 2\", 'genre': 'Fiction'}}"
      ]
     },
     "execution_count": 170,
     "metadata": {},
     "output_type": "execute_result"
    }
   ],
   "source": [
    "a={    i+1: {'id': book_key, 'title': value['title'], 'genre': value['genre']}\n",
    "    for i, (book_key, value) in enumerate(user_borrow.items())}\n",
    "a"
   ]
  },
  {
   "cell_type": "code",
   "execution_count": 83,
   "metadata": {},
   "outputs": [
    {
     "name": "stdout",
     "output_type": "stream",
     "text": [
      "2\n",
      "a\n",
      " afdal \n",
      "a\n"
     ]
    }
   ],
   "source": [
    "def returning_book()\n",
    "    "
   ]
  },
  {
   "cell_type": "code",
   "execution_count": 144,
   "metadata": {},
   "outputs": [
    {
     "name": "stdout",
     "output_type": "stream",
     "text": [
      "2024-12-31\n"
     ]
    }
   ],
   "source": [
    "import datetime\n",
    "custom_date = datetime.date(2024, 12, 31)  # 31 Desember 2024\n",
    "print(custom_date)"
   ]
  },
  {
   "cell_type": "code",
   "execution_count": 99,
   "metadata": {},
   "outputs": [
    {
     "data": {
      "text/plain": [
       "2"
      ]
     },
     "execution_count": 99,
     "metadata": {},
     "output_type": "execute_result"
    }
   ],
   "source": [
    "a = list(book['title'] for book in dict_book.values())\n",
    "b = 'ada' if 'Introduction to Python' in a else 'tidak ada'\n",
    "c = list((book['title'], book['author'], book['year']) for book in dict_book.values())\n",
    "f = 2\n",
    "e = 'ada'\n",
    "f += 4 if e=='adaa' else 0\n",
    "f"
   ]
  },
  {
   "cell_type": "code",
   "execution_count": 105,
   "metadata": {},
   "outputs": [
    {
     "name": "stdout",
     "output_type": "stream",
     "text": [
      "3\n"
     ]
    }
   ],
   "source": [
    "a=[4,3,5,6,7]\n",
    "test = 6\n",
    "if test in a:\n",
    "    ab =a.index(test)\n",
    "else:\n",
    "    ab=0\n",
    "print(ab)"
   ]
  },
  {
   "cell_type": "code",
   "execution_count": 150,
   "metadata": {},
   "outputs": [
    {
     "data": {
      "text/plain": [
       "{111: {'a': 1, 'b': 2, 'c': 3, 'd': 4}}"
      ]
     },
     "execution_count": 150,
     "metadata": {},
     "output_type": "execute_result"
    }
   ],
   "source": [
    "a={111:{'a':1,'b':2,'c':3}}\n",
    "a[111]['d']=4\n",
    "a"
   ]
  },
  {
   "cell_type": "code",
   "execution_count": 345,
   "metadata": {},
   "outputs": [
    {
     "name": "stdout",
     "output_type": "stream",
     "text": [
      " No | Book ID  |             Title              |        Author        | Year  |    Status     |      Genre      | Rating\n",
      " 1  |   101    | Introduction to Python         | Alpha                | 2020  | Available     | STEM            |   5  \n",
      " 2  |   102    | The Problems of Philosophy     | Beta                 | 1912  | Available     | Philosophy      |   5  \n",
      " 3  |   103    | A Brief History of Time        | Stephen Hawking      | 1988  | Not available | STEM            |   4  \n",
      " 4  |   104    | 1984                           | George Orwell        | 1949  | Available     | Fiction         |   5  \n",
      " 5  |   105    | The Selfish Gene               | Richard Dawkins      | 1976  | Available     | Biology         |   4  \n",
      " 6  |   106    | Meditations                    | Marcus Aurelius      |  180  | Available     | Philosophy      |   5  \n",
      " 7  |   107    | To Kill a Mockingbird          | Harper Lee           | 1960  | Available     | Fiction         |   5  \n",
      " 8  |   108    | Sapiens: A Brief History of Hu | Yuval Noah Harari    | 2011  | Available     | History         |   4  \n",
      " 9  |   109    | The Art of War                 | Sun Tzu              | 2020  | Available     | Philosophy      |   4  \n",
      " 10 |   110    | The Catcher in the Rye         | J.D. Salinger        | 1951  | Not available | Fiction         |   5  \n",
      " 11 |   111    | Afdal's book                   | Afdal                | 2024  | Available     | Fiction         |   5  \n",
      " 12 |   113    | Afdal's book 2                 | Afdal                | 2024  | Available     | fiction         |   5  \n"
     ]
    }
   ],
   "source": [
    "display_book(dict_book)"
   ]
  },
  {
   "cell_type": "code",
   "execution_count": 344,
   "metadata": {},
   "outputs": [
    {
     "name": "stdout",
     "output_type": "stream",
     "text": [
      "The books have been added\n"
     ]
    }
   ],
   "source": [
    "add_book()"
   ]
  }
 ],
 "metadata": {
  "kernelspec": {
   "display_name": "base",
   "language": "python",
   "name": "python3"
  },
  "language_info": {
   "codemirror_mode": {
    "name": "ipython",
    "version": 3
   },
   "file_extension": ".py",
   "mimetype": "text/x-python",
   "name": "python",
   "nbconvert_exporter": "python",
   "pygments_lexer": "ipython3",
   "version": "3.8.8"
  }
 },
 "nbformat": 4,
 "nbformat_minor": 2
}
